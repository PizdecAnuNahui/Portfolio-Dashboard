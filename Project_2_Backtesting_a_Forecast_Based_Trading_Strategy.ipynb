{
  "nbformat": 4,
  "nbformat_minor": 0,
  "metadata": {
    "colab": {
      "provenance": [],
      "authorship_tag": "ABX9TyMvYMFbFQQsAKb2oaQhf4pw",
      "include_colab_link": true
    },
    "kernelspec": {
      "name": "python3",
      "display_name": "Python 3"
    },
    "language_info": {
      "name": "python"
    }
  },
  "cells": [
    {
      "cell_type": "markdown",
      "metadata": {
        "id": "view-in-github",
        "colab_type": "text"
      },
      "source": [
        "<a href=\"https://colab.research.google.com/github/PizdecAnuNahui/Portfolio-Dashboard/blob/main/Project_2_Backtesting_a_Forecast_Based_Trading_Strategy.ipynb\" target=\"_parent\"><img src=\"https://colab.research.google.com/assets/colab-badge.svg\" alt=\"Open In Colab\"/></a>"
      ]
    },
    {
      "cell_type": "code",
      "source": [
        "# DCF model\n",
        "\n",
        "import yfinance as yf\n",
        "import numpy as np\n",
        "import pandas as pd\n",
        "\n",
        "ticker = \"AAPL\"\n",
        "stock = yf.Ticker(ticker)\n",
        "\n",
        "# Get cashflow dataframe and extract Free Cash Flow\n",
        "cashflow = stock.cashflow\n",
        "try:\n",
        "    fcf = cashflow.loc[\"Free Cash Flow\"].dropna().astype(float)[::-1]  # reverse for oldest -> newest\n",
        "except KeyError:\n",
        "    print(\"❌ 'Free Cash Flow' not found in cashflow data.\")\n",
        "    print(\"Available fields:\\n\", cashflow.index.tolist())\n",
        "    raise\n",
        "\n",
        "# Forecast future FCFs using average growth\n",
        "avg_growth = fcf.pct_change().mean()\n",
        "last_fcf = fcf[-1]\n",
        "years = 5\n",
        "forecast_fcfs = [last_fcf * ((1 + avg_growth) ** i) for i in range(1, years + 1)]\n",
        "\n",
        "# DCF assumptions\n",
        "wacc = 0.08\n",
        "terminal_growth = 0.02\n",
        "terminal_value = forecast_fcfs[-1] * (1 + terminal_growth) / (wacc - terminal_growth)\n",
        "\n",
        "# Discount forecasted FCFs and terminal value\n",
        "discounted_fcfs = [fcf / ((1 + wacc) ** i) for i, fcf in enumerate(forecast_fcfs, 1)]\n",
        "discounted_terminal = terminal_value / ((1 + wacc) ** years)\n",
        "\n",
        "enterprise_value = sum(discounted_fcfs) + discounted_terminal\n",
        "enterprise_value_b = enterprise_value / 1e9\n",
        "\n",
        "# Market cap comparison\n",
        "market_cap = stock.info['marketCap'] / 1e9\n",
        "\n",
        "# Output Summary\n",
        "summary = {\n",
        "    \"Ticker\": ticker,\n",
        "    \"Last FCF (B)\": round(last_fcf / 1e9, 2),\n",
        "    \"Avg FCF Growth\": f\"{round(avg_growth * 100, 2)}%\",\n",
        "    \"WACC\": f\"{round(wacc * 100, 2)}%\",\n",
        "    \"Enterprise Value (DCF)\": round(enterprise_value_b, 2),\n",
        "    \"Market Cap (B)\": round(market_cap, 2),\n",
        "    \"DCF Implied Upside (%)\": round((enterprise_value_b - market_cap) / market_cap * 100, 2)\n",
        "}\n",
        "\n",
        "summary_df = pd.DataFrame([summary])\n",
        "print(\"📊 DCF Valuation Summary:\")\n",
        "print(summary_df)\n"
      ],
      "metadata": {
        "colab": {
          "base_uri": "https://localhost:8080/"
        },
        "id": "NP1QBLISROpI",
        "outputId": "4d349512-5e1f-4698-b68a-b4d5693bb77f"
      },
      "execution_count": null,
      "outputs": [
        {
          "output_type": "stream",
          "name": "stderr",
          "text": [
            "<ipython-input-6-097e432fadf8>:19: FutureWarning: Series.__getitem__ treating keys as positions is deprecated. In a future version, integer keys will always be treated as labels (consistent with DataFrame behavior). To access a value by position, use `ser.iloc[pos]`\n",
            "  last_fcf = fcf[-1]\n"
          ]
        },
        {
          "output_type": "stream",
          "name": "stdout",
          "text": [
            "📊 DCF Valuation Summary:\n",
            "  Ticker  Last FCF (B) Avg FCF Growth  WACC  Enterprise Value (DCF)  \\\n",
            "0   AAPL        108.81          6.17%  8.0%                 2215.29   \n",
            "\n",
            "   Market Cap (B)  DCF Implied Upside (%)  \n",
            "0         3315.83                  -33.19  \n"
          ]
        }
      ]
    },
    {
      "cell_type": "code",
      "source": [
        "import yfinance as yf\n",
        "import pandas as pd\n",
        "import numpy as np\n",
        "\n",
        "# List of 10 stocks\n",
        "tickers = [\"AAPL\", \"MSFT\", \"GOOGL\", \"AMZN\", \"META\", \"TSLA\", \"NVDA\", \"JNJ\", \"V\", \"PG\"]\n",
        "\n",
        "# Assumptions\n",
        "wacc = 0.08\n",
        "years = 5\n",
        "perpetual_growth_rate = 0.025\n",
        "\n",
        "summary = []\n",
        "\n",
        "for ticker in tickers:\n",
        "    try:\n",
        "        print(f\"🔄 Processing {ticker}...\")\n",
        "        stock = yf.Ticker(ticker)\n",
        "\n",
        "        cashflow = stock.cashflow\n",
        "        if cashflow is None or cashflow.empty:\n",
        "            print(f\"❌ No cashflow data for {ticker}\")\n",
        "            continue\n",
        "\n",
        "        cashflow = cashflow.T\n",
        "        if 'Total Cash From Operating Activities' not in cashflow.columns or 'Capital Expenditures' not in cashflow.columns:\n",
        "            print(f\"❌ Required fields not found in cashflow for {ticker}\")\n",
        "            continue\n",
        "\n",
        "        fcf = (cashflow['Total Cash From Operating Activities'] - cashflow['Capital Expenditures']) / 1e9\n",
        "        fcf = fcf[fcf.notna()]\n",
        "        if len(fcf) < 2:\n",
        "            print(f\"❌ Not enough FCF history for {ticker}\")\n",
        "            continue\n",
        "\n",
        "        last_fcf = fcf[-1]\n",
        "        avg_growth = fcf.pct_change().dropna().mean()\n",
        "\n",
        "        # Forecast future FCFs\n",
        "        forecasted_fcfs = [last_fcf * ((1 + avg_growth) ** i) for i in range(1, years + 1)]\n",
        "        discounted_fcfs = [fcf / ((1 + wacc) ** i) for i, fcf in enumerate(forecasted_fcfs, 1)]\n",
        "        terminal_value = (forecasted_fcfs[-1] * (1 + perpetual_growth_rate)) / (wacc - perpetual_growth_rate)\n",
        "        discounted_terminal = terminal_value / ((1 + wacc) ** years)\n",
        "\n",
        "        enterprise_value = sum(discounted_fcfs) + discounted_terminal\n",
        "\n",
        "        # Market Cap\n",
        "        market_cap = stock.info.get(\"marketCap\", np.nan) / 1e9\n",
        "        if np.isnan(market_cap):\n",
        "            print(f\"❌ Market cap not available for {ticker}\")\n",
        "            continue\n",
        "\n",
        "        implied_upside = round((enterprise_value - market_cap) / market_cap * 100, 2)\n",
        "\n",
        "        summary.append({\n",
        "            \"Ticker\": ticker,\n",
        "            \"Last FCF (B)\": round(last_fcf, 2),\n",
        "            \"Avg FCF Growth\": f\"{round(avg_growth * 100, 2)}%\",\n",
        "            \"WACC\": f\"{round(wacc * 100, 1)}%\",\n",
        "            \"Enterprise Value (DCF)\": round(enterprise_value, 2),\n",
        "            \"Market Cap (B)\": round(market_cap, 2),\n",
        "            \"DCF Implied Upside (%)\": implied_upside\n",
        "        })\n",
        "    except Exception as e:\n",
        "        print(f\"⚠️ Error processing {ticker}: {e}\")\n",
        "\n",
        "# Display the summary table\n",
        "summary_df = pd.DataFrame(summary)\n",
        "import ace_tools as tools; tools.display_dataframe_to_user(name=\"DCF Valuation Summary for 10 Stocks\", dataframe=summary_df)\n"
      ],
      "metadata": {
        "colab": {
          "base_uri": "https://localhost:8080/",
          "height": 713
        },
        "id": "YlkN3fYKRi2A",
        "outputId": "9a3be0a8-7f9f-41da-a3a7-f6644137c029"
      },
      "execution_count": null,
      "outputs": [
        {
          "output_type": "stream",
          "name": "stdout",
          "text": [
            "🔄 Processing AAPL...\n",
            "❌ Required fields not found in cashflow for AAPL\n",
            "🔄 Processing MSFT...\n",
            "❌ Required fields not found in cashflow for MSFT\n",
            "🔄 Processing GOOGL...\n",
            "❌ Required fields not found in cashflow for GOOGL\n",
            "🔄 Processing AMZN...\n",
            "❌ Required fields not found in cashflow for AMZN\n",
            "🔄 Processing META...\n",
            "❌ Required fields not found in cashflow for META\n",
            "🔄 Processing TSLA...\n",
            "❌ Required fields not found in cashflow for TSLA\n",
            "🔄 Processing NVDA...\n",
            "❌ Required fields not found in cashflow for NVDA\n",
            "🔄 Processing JNJ...\n",
            "❌ Required fields not found in cashflow for JNJ\n",
            "🔄 Processing V...\n",
            "❌ Required fields not found in cashflow for V\n",
            "🔄 Processing PG...\n",
            "❌ Required fields not found in cashflow for PG\n"
          ]
        },
        {
          "output_type": "error",
          "ename": "ModuleNotFoundError",
          "evalue": "No module named 'ace_tools'",
          "traceback": [
            "\u001b[0;31m---------------------------------------------------------------------------\u001b[0m",
            "\u001b[0;31mModuleNotFoundError\u001b[0m                       Traceback (most recent call last)",
            "\u001b[0;32m<ipython-input-7-52476e497973>\u001b[0m in \u001b[0;36m<cell line: 0>\u001b[0;34m()\u001b[0m\n\u001b[1;32m     67\u001b[0m \u001b[0;31m# Display the summary table\u001b[0m\u001b[0;34m\u001b[0m\u001b[0;34m\u001b[0m\u001b[0m\n\u001b[1;32m     68\u001b[0m \u001b[0msummary_df\u001b[0m \u001b[0;34m=\u001b[0m \u001b[0mpd\u001b[0m\u001b[0;34m.\u001b[0m\u001b[0mDataFrame\u001b[0m\u001b[0;34m(\u001b[0m\u001b[0msummary\u001b[0m\u001b[0;34m)\u001b[0m\u001b[0;34m\u001b[0m\u001b[0;34m\u001b[0m\u001b[0m\n\u001b[0;32m---> 69\u001b[0;31m \u001b[0;32mimport\u001b[0m \u001b[0mace_tools\u001b[0m \u001b[0;32mas\u001b[0m \u001b[0mtools\u001b[0m\u001b[0;34m;\u001b[0m \u001b[0mtools\u001b[0m\u001b[0;34m.\u001b[0m\u001b[0mdisplay_dataframe_to_user\u001b[0m\u001b[0;34m(\u001b[0m\u001b[0mname\u001b[0m\u001b[0;34m=\u001b[0m\u001b[0;34m\"DCF Valuation Summary for 10 Stocks\"\u001b[0m\u001b[0;34m,\u001b[0m \u001b[0mdataframe\u001b[0m\u001b[0;34m=\u001b[0m\u001b[0msummary_df\u001b[0m\u001b[0;34m)\u001b[0m\u001b[0;34m\u001b[0m\u001b[0;34m\u001b[0m\u001b[0m\n\u001b[0m",
            "\u001b[0;31mModuleNotFoundError\u001b[0m: No module named 'ace_tools'",
            "",
            "\u001b[0;31m---------------------------------------------------------------------------\u001b[0;32m\nNOTE: If your import is failing due to a missing package, you can\nmanually install dependencies using either !pip or !apt.\n\nTo view examples of installing some common dependencies, click the\n\"Open Examples\" button below.\n\u001b[0;31m---------------------------------------------------------------------------\u001b[0m\n"
          ],
          "errorDetails": {
            "actions": [
              {
                "action": "open_url",
                "actionText": "Open Examples",
                "url": "/notebooks/snippets/importing_libraries.ipynb"
              }
            ]
          }
        }
      ]
    },
    {
      "cell_type": "code",
      "source": [],
      "metadata": {
        "id": "Kc5gRrcwSw-G"
      },
      "execution_count": null,
      "outputs": []
    }
  ]
}